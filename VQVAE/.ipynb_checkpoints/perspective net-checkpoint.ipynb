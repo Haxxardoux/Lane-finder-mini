{
 "cells": [
  {
   "cell_type": "code",
   "execution_count": 1,
   "metadata": {},
   "outputs": [],
   "source": [
    "import torch\n",
    "from torch import nn, optim\n",
    "from torch.utils.data import DataLoader\n",
    "\n",
    "from torchvision import datasets, transforms, utils\n",
    "\n",
    "from VQVAE import VQVAE\n",
    "from train import train\n",
    "from utilities import start_mlflow_experiment, Params, save_to_mlflow, count_parameters, load_full_state, select_gpu\n",
    "\n",
    "from tqdm import tqdm\n",
    "import mlflow"
   ]
  },
  {
   "cell_type": "code",
   "execution_count": 2,
   "metadata": {},
   "outputs": [
    {
     "name": "stdout",
     "output_type": "stream",
     "text": [
      "/share/lazy/will/ConstrastiveLoss/test/mask.png\n",
      "/share/lazy/will/ConstrastiveLoss/test/img.png\n"
     ]
    }
   ],
   "source": [
    "import os\n",
    "for root, dirs, files in os.walk('/share/lazy/will/ConstrastiveLoss/test/'):\n",
    "    for file in files:\n",
    "        if file.endswith('.png'):\n",
    "            print(os.path.join(root, file))\n"
   ]
  },
  {
   "cell_type": "code",
   "execution_count": 3,
   "metadata": {},
   "outputs": [],
   "source": [
    "# math stuff for initial perspective transforms\n",
    "from PIL import Image\n",
    "import matplotlib.pyplot as plt\n",
    "import numpy as np\n",
    "import math\n",
    "from pyquaternion import Quaternion"
   ]
  },
  {
   "cell_type": "code",
   "execution_count": 4,
   "metadata": {},
   "outputs": [
    {
     "data": {
      "image/png": "[encoded data removed]",
      "text/plain": [
       "<Figure size 432x432 with 1 Axes>"
      ]
     },
     "metadata": {
      "needs_background": "light"
     },
     "output_type": "display_data"
    }
   ],
   "source": [
    "plt.rcParams[\"figure.figsize\"] = (6,6)\n",
    "im = np.asarray(Image.open('/share/lazy/will/ConstrastiveLoss/test/mask.png'))\n",
    "plt.imshow(im)\n",
    "plt.show()"
   ]
  },
  {
   "cell_type": "code",
   "execution_count": 5,
   "metadata": {
    "scrolled": false
   },
   "outputs": [
    {
     "data": {
      "image/png": "[encoded data removed]",
      "text/plain": [
       "<Figure size 432x432 with 1 Axes>"
      ]
     },
     "metadata": {
      "needs_background": "light"
     },
     "output_type": "display_data"
    }
   ],
   "source": [
    "lane_lines = im[:, :, 0] == 255\n",
    "\n",
    "plt.imshow(255*np.dstack((lane_lines, lane_lines, lane_lines)))\n",
    "plt.show()"
   ]
  },
  {
   "cell_type": "code",
   "execution_count": 6,
   "metadata": {},
   "outputs": [],
   "source": [
    "# x, y coordinates of lane lines in 2d space\n",
    "points = np.argwhere(lane_lines).T"
   ]
  },
  {
   "cell_type": "code",
   "execution_count": null,
   "metadata": {},
   "outputs": [],
   "source": [
    "# constructing the horizon line manually by inspection\n",
    "y = np.linspace(394, 425, 1000)\n",
    "x = np.linspace(0, 1200, 1000)\n",
    "\n",
    "# this bit adds the line to the plot\n",
    "im = np.asarray(Image.open('/share/lazy/will/ConstrastiveLoss/test/img.png')).copy()\n",
    "points = list(zip(y, x.round(0)))\n",
    "for y, x in points:\n",
    "    im[int(y):int(y+2), int(x):int(x)+2] = [255, 255, 0]"
   ]
  },
  {
   "cell_type": "code",
   "execution_count": 7,
   "metadata": {},
   "outputs": [],
   "source": [
    "# image height / 2, aka principle point in y direction\n",
    "Py = im.shape[0]//2"
   ]
  },
  {
   "cell_type": "code",
   "execution_count": 8,
   "metadata": {},
   "outputs": [],
   "source": [
    "# need to re-define y since calling zip() screws it up \n",
    "y = np.linspace(394, 425, 1000)\n",
    "\n",
    "# image height / 2, aka principle point in y direction\n",
    "Py = im.shape[0]//2\n",
    "\n",
    "# get vanishing point (approximately) in y direction\n",
    "vp_y = y[len(y)//2].round(0)\n",
    "\n",
    "# use the above information to get pitch angle\n",
    "focal_length = 910.0\n",
    "pitch = math.atan((Py - vp_y)/focal_length)"
   ]
  },
  {
   "cell_type": "code",
   "execution_count": 9,
   "metadata": {},
   "outputs": [],
   "source": [
    "# horizon line\n",
    "y = np.linspace(394, 425, 1000)\n",
    "x = np.linspace(0, 1200, 1000)\n",
    "\n",
    "# use angle of horizon line as roll angle\n",
    "delta_y = y[-1] - y[0]\n",
    "delta_x = x[-1] - x[0]\n",
    "roll = math.atan(delta_y/delta_x)"
   ]
  },
  {
   "cell_type": "code",
   "execution_count": null,
   "metadata": {},
   "outputs": [],
   "source": [
    "# ==================== EXTRINSIC MATRIX ASSEMBLY ====================\n",
    "new_rot_matrix = np.matmul(calibration_rotation_matrix, BEV_homography_matrix)\n",
    "transform_matrix = np.eye(4)\n",
    "transform_matrix[:3, :3] = new_rot_matrix\n",
    "\n",
    "# chozen transform in Z direction, can make it large and maybe make sure you did it right? idk\n",
    "# transform_matrix[2, 3] = 1"
   ]
  },
  {
   "cell_type": "code",
   "execution_count": 188,
   "metadata": {},
   "outputs": [],
   "source": [
    "# BEV transform array\n",
    "BEV_homography_matrix = np.array([\n",
    "    [0, 1, 0],\n",
    "    [-1, 0, 0],\n",
    "    [0, 0, 1]\n",
    "])"
   ]
  },
  {
   "cell_type": "code",
   "execution_count": 11,
   "metadata": {},
   "outputs": [],
   "source": [
    "# ==================== INTRINSIC MATRIX ====================\n",
    "\n",
    "# this is specific to EON, we can use this here because the data came from comma 10k with known intrinsics\n",
    "camera_intrinsics = np.eye(3)\n",
    "camera_intrinsics[0,0] = focal_length\n",
    "camera_intrinsics[1,1] = focal_length\n",
    "# horizontal midpoint\n",
    "camera_intrinsics[0, 2] = im.shape[1]//2\n",
    "# vertical midpoint\n",
    "camera_intrinsics[1, 2] = im.shape[0]//2\n"
   ]
  },
  {
   "cell_type": "code",
   "execution_count": 12,
   "metadata": {},
   "outputs": [],
   "source": [
    "# do operations in homogeneous coordinates\n",
    "homo_points = np.vstack((points, np.ones((1, points.shape[1])) ))\n",
    "\n",
    "# apply the inverse of the intrinsic matrix. 3d matrix so our conversion to 3d homogeneous coordinates is enough\n",
    "# if we had translation we would require an additional dimension, since transformer matrix is 3x4.\n",
    "cam_p_points = np.dot(np.linalg.inv(camera_intrinsics), homo_points)\n"
   ]
  },
  {
   "cell_type": "code",
   "execution_count": 119,
   "metadata": {},
   "outputs": [],
   "source": [
    "# import cv2\n",
    "# calibration_rotation_matrix = Quaternion([1, 0, -0.0001, 0]).rotation_matrix\n",
    "# image = np.asarray(Image.open('/share/lazy/will/ConstrastiveLoss/test/img.png'))\n",
    "# warped = cv2.warpPerspective(src=image, M=new_rot_matrix, dsize=image.shape[0:2])\n",
    "# plt.imshow(image)\n",
    "# plt.show()\n",
    "# plt.imshow(warped)\n",
    "# plt.show()"
   ]
  },
  {
   "cell_type": "code",
   "execution_count": 200,
   "metadata": {},
   "outputs": [],
   "source": [
    "# ==================== EXTRINSIC MATRIX ASSEMBLY ====================\n",
    "# maybe = np.linalg.inv(BEV_homography_matrix)\n",
    "calibration_rotation_matrix = Quaternion([1, -0.5, 0, 0]).rotation_matrix\n",
    "# BEV_homography_matrix = Quaternion([1, -0.4, 0, 0]).rotation_matrix\n",
    "\n",
    "new_rot_matrix = np.matmul(calibration_rotation_matrix, BEV_homography_matrix)\n",
    "transform_matrix = np.eye(4)\n",
    "transform_matrix[:3, :3] = new_rot_matrix\n",
    "\n",
    "bev_points = np.vstack((cam_p_points, np.ones((1, cam_p_points.shape[1])) ))\n",
    "hmm = np.dot(transform_matrix, bev_points)\n",
    "hmm = hmm/hmm[2]"
   ]
  },
  {
   "cell_type": "code",
   "execution_count": 201,
   "metadata": {},
   "outputs": [
    {
     "name": "stderr",
     "output_type": "stream",
     "text": [
      "Clipping input data to the valid range for imshow with RGB data ([0..1] for floats or [0..255] for integers).\n"
     ]
    },
    {
     "data": {
      "image/png": "[encoded data removed]",
      "text/plain": [
       "<Figure size 432x432 with 1 Axes>"
      ]
     },
     "metadata": {
      "needs_background": "light"
     },
     "output_type": "display_data"
    }
   ],
   "source": [
    "plt.rcParams[\"figure.figsize\"] = (6,6)\n",
    "test = 1000*(hmm[0:2] - hmm[0:2].min())/(hmm[0:2].max() - hmm[0:2].min())\n",
    "empty = np.zeros( (int(test[0].max().round(0)+100), int(test[1].max().round(0))+100) )\n",
    "for x, y in test[0:2].T:\n",
    "    empty[int(x), int(y)] = 1\n",
    "# empty = empty[int(test[1].min().round(0)):]\n",
    "plt.imshow(255*np.dstack((empty, empty, empty)))\n",
    "# plt.gca().invert_yaxis()\n",
    "plt.show()"
   ]
  },
  {
   "cell_type": "code",
   "execution_count": 148,
   "metadata": {},
   "outputs": [
    {
     "data": {
      "image/png": "[encoded data removed]",
      "text/plain": [
       "<Figure size 576x576 with 1 Axes>"
      ]
     },
     "metadata": {
      "needs_background": "light"
     },
     "output_type": "display_data"
    }
   ],
   "source": [
    "plt.rcParams[\"figure.figsize\"] = (8,8)\n",
    "plt.imshow(255*np.dstack((lane_lines, lane_lines, lane_lines)))\n",
    "plt.show()"
   ]
  },
  {
   "cell_type": "code",
   "execution_count": null,
   "metadata": {},
   "outputs": [],
   "source": []
  },
  {
   "cell_type": "code",
   "execution_count": null,
   "metadata": {},
   "outputs": [],
   "source": [
    "plt.imshow(im)\n",
    "plt.show()"
   ]
  },
  {
   "cell_type": "code",
   "execution_count": null,
   "metadata": {},
   "outputs": [],
   "source": [
    "f = open(\"/share/lazy/will/ConstrastiveLoss/Imgs/color_images/vanishing_points/VP dataset/highway/10691/10691_468.txt\", \"r\")\n",
    "print(f.read())"
   ]
  },
  {
   "cell_type": "code",
   "execution_count": null,
   "metadata": {},
   "outputs": [],
   "source": [
    "class ImageDataset(torch.utils.data.Dataset):\n",
    "    def __init__(self, image_paths, target_paths):\n",
    "        self.image_paths = image_paths\n",
    "        self.target_paths = target_paths\n",
    "\n",
    "    def transform(self, image, mask):\n",
    "\n",
    "        # Resize image\n",
    "        resize_img = torchvision.transforms.Resize(new_size)\n",
    "        image = resize_img(image)\n",
    "\n",
    "        # Convert mask to binary image and extract only the channel we need\n",
    "        mask = np.asarray(mask).astype(np.int32)\n",
    "        image = np.asarray(image).astype(np.int32).transpose(2, 0, 1)\n",
    "        mask = np.array(mask[:,:,0]) == 255\n",
    "\n",
    "        # Resize                                           ### NEEDS FIX ===========\n",
    "        mask = resize(255*mask, new_size)\n",
    "        mask = (mask > np.min(mask)*100).reshape(1, *mask.shape)\n",
    "\n",
    "        return image, mask\n",
    "\n",
    "    def __getitem__(self, index):\n",
    "        image = Image.open(self.image_paths[index])\n",
    "        mask = Image.open(self.target_paths[index])\n",
    "        x, y = self.transform(image, mask)\n",
    "        return x, y\n",
    "\n",
    "    def __len__(self):\n",
    "        return len(self.target_paths)"
   ]
  },
  {
   "cell_type": "code",
   "execution_count": null,
   "metadata": {
    "scrolled": true
   },
   "outputs": [],
   "source": [
    "args = Params(16, 10, 4e-4, 256, 'cuda:1')\n",
    "\n",
    "start_mlflow_experiment('VP net', 'lane-finder')\n",
    "\n",
    "\n",
    "transform = transforms.Compose([\n",
    "        transforms.Resize(args.size),\n",
    "        transforms.CenterCrop(args.size),\n",
    "        transforms.ToTensor(),\n",
    "        transforms.Normalize([0.5, 0.5, 0.5], [0.5, 0.5, 0.5]),\n",
    "    ])\n",
    "\n",
    "dataset = datasets.ImageFolder('/share/lazy/will/ConstrastiveLoss/Imgs/color_images/vanishing_points/VP dataset/highway/', transform=transform)\n",
    "loader = DataLoader(dataset, batch_size=args.batch_size, shuffle=True, pin_memory = True)\n",
    "\n",
    "model = VQVAE(channel=128).to(args.device)\n",
    "\n",
    "optimizer = optim.Adam(model.parameters(), lr=args.lr)\n",
    "\n",
    "run_name = 'delete'\n",
    "with mlflow.start_run(run_name = run_name) as run:\n",
    "\n",
    "    for epoch in range(args.epoch):\n",
    "        results = train(epoch, loader, model, optimizer, args.device)\n",
    "        for Dict in results:\n",
    "            print(Dict)\n",
    "            save_to_mlflow(Dict, args)\n"
   ]
  },
  {
   "cell_type": "code",
   "execution_count": null,
   "metadata": {},
   "outputs": [],
   "source": [
    "import torch\n",
    "from torch import nn\n",
    "from torchsummary import summary\n",
    "import torch.nn.functional as F\n",
    "import mlflow\n",
    "from torchvision import transforms\n",
    "\n",
    "\n",
    "class Swish(torch.autograd.Function):\n",
    "    @staticmethod\n",
    "    def forward(ctx, i):\n",
    "        result = i*i.sigmoid()\n",
    "        ctx.save_for_backward(result,i)\n",
    "        return result\n",
    "\n",
    "    @staticmethod\n",
    "    def backward(ctx, grad_output):\n",
    "        result,i = ctx.saved_variables\n",
    "        sigmoid_x = i.sigmoid()\n",
    "        return grad_output * (result+sigmoid_x*(1-result))\n",
    "\n",
    "swish= Swish.apply\n",
    "\n",
    "class Swish_module(nn.Module):\n",
    "    def forward(self,x):\n",
    "        return swish(x)\n",
    "    \n",
    "swish_layer = Swish_module()\n",
    "\n",
    "    \n",
    "\n",
    "class Quantize(nn.Module):\n",
    "    def __init__(self, dim, n_embed, decay=0.99, eps=1e-5):\n",
    "        super().__init__()\n",
    "\n",
    "        self.dim = dim\n",
    "        self.n_embed = n_embed\n",
    "        self.decay = decay\n",
    "        self.eps = eps\n",
    "\n",
    "        embed = torch.randn(dim, n_embed)\n",
    "        self.register_buffer(\"embed\", embed)\n",
    "        self.register_buffer(\"cluster_size\", torch.zeros(n_embed))\n",
    "        self.register_buffer(\"embed_avg\", embed.clone())\n",
    "\n",
    "    def forward(self, input):\n",
    "        flatten = input.reshape(-1, self.dim)\n",
    "        dist = (\n",
    "            flatten.pow(2).sum(1, keepdim=True)\n",
    "            - 2 * flatten @ self.embed\n",
    "            + self.embed.pow(2).sum(0, keepdim=True)\n",
    "        )\n",
    "        _, embed_ind = (-dist).max(1)\n",
    "        embed_onehot = F.one_hot(embed_ind, self.n_embed).type(flatten.dtype)\n",
    "        embed_ind = embed_ind.view(*input.shape[:-1])\n",
    "        quantize = self.embed_code(embed_ind)\n",
    "\n",
    "        if self.training:\n",
    "            embed_onehot_sum = embed_onehot.sum(0)\n",
    "            embed_sum = flatten.transpose(0, 1) @ embed_onehot\n",
    "\n",
    "            torch.sum(embed_onehot_sum)\n",
    "            torch.sum(embed_sum)\n",
    "\n",
    "            self.cluster_size.data.mul_(self.decay).add_(\n",
    "                embed_onehot_sum, alpha=1 - self.decay\n",
    "            )\n",
    "            self.embed_avg.data.mul_(self.decay).add_(embed_sum, alpha=1 - self.decay)\n",
    "            n = self.cluster_size.sum()\n",
    "            cluster_size = (\n",
    "                (self.cluster_size + self.eps) / (n + self.n_embed * self.eps) * n\n",
    "            )\n",
    "            embed_normalized = self.embed_avg / cluster_size.unsqueeze(0)\n",
    "            self.embed.data.copy_(embed_normalized)\n",
    "\n",
    "        diff = (quantize.detach() - input).pow(2).mean()\n",
    "        quantize = input + (quantize - input).detach()\n",
    "\n",
    "        return quantize, diff, embed_ind\n",
    "\n",
    "    def embed_code(self, embed_id):\n",
    "        return F.embedding(embed_id, self.embed.transpose(0, 1))\n",
    "\n",
    "\n",
    "class ResBlock(nn.Module):\n",
    "    def __init__(self, in_channel, out_channel, stride=1, kernel_size=3, extra_layers=1, residual=True):\n",
    "        super().__init__()\n",
    "        self.residual=residual\n",
    "        \n",
    "        layers = [\n",
    "            nn.Conv2d(in_channel, out_channel, stride=stride, kernel_size=kernel_size, padding=(kernel_size-1)//2),\n",
    "            nn.BatchNorm2d(out_channel),\n",
    "#             nn.ReLU()]\n",
    "            Swish_module()]\n",
    "        \n",
    "        extra_block = [\n",
    "            nn.Conv2d(out_channel, out_channel, stride=1, kernel_size=3, padding=(3-1)//2),\n",
    "            nn.BatchNorm2d(out_channel),\n",
    "#             nn.ReLU()]\n",
    "            Swish_module()]\n",
    "        \n",
    "        for layer in range(extra_layers):\n",
    "            layers.extend(extra_block)\n",
    "\n",
    "        self.resblock = nn.Sequential(*layers)\n",
    "\n",
    "    def forward(self, input):\n",
    "        if self.residual:\n",
    "            out = self.resblock(input)\n",
    "            out = input+out\n",
    "            return out\n",
    "        else:\n",
    "            out = self.resblock(input)\n",
    "            return out\n",
    "\n",
    "class Encoder(nn.Module):\n",
    "    def __init__(self, in_channel, channel, extra_layers, stride, kernel_size, residual, extra_residual_blocks, downsample):\n",
    "        super().__init__()\n",
    "\n",
    "        self.out_channels = channel\n",
    "\n",
    "        blocks = [\n",
    "            ResBlock(in_channel, channel, extra_layers=extra_layers, stride=stride, residual=residual),\n",
    "            Swish_module()\n",
    "#             nn.ReLU(inplace=True)\n",
    "        ]\n",
    "\n",
    "\n",
    "        for i in range(extra_residual_blocks):\n",
    "            blocks.append(ResBlock(in_channel=channel, out_channel=channel, extra_layers=extra_layers, residual=True))\n",
    "            if (downsample=='Once') & (i==0):\n",
    "                blocks.append(nn.MaxPool2d(2, 2))\n",
    "            if (downsample=='Twice') & ((i==0) | (i==1)):\n",
    "                blocks.append(nn.MaxPool2d(2, 2))\n",
    "                \n",
    "        if not extra_residual_blocks:\n",
    "            blocks.append(nn.MaxPool2d(2,2))\n",
    "\n",
    "        self.encode = nn.Sequential(*blocks)\n",
    "\n",
    "    def forward(self, input):\n",
    "        return self.encode(input)\n",
    "\n",
    "\n",
    "class Decoder(nn.Module):\n",
    "    def __init__(self, channel, out_channel, extra_layers, extra_residual_blocks, upsample):\n",
    "        super().__init__()\n",
    "\n",
    "        blocks = []\n",
    "\n",
    "        for i in range(extra_residual_blocks):\n",
    "            blocks.append(ResBlock(in_channel=channel, out_channel=channel, extra_layers=extra_layers, residual=True))\n",
    "            if (upsample=='Twice') & (i==0):\n",
    "                blocks.append(nn.ConvTranspose2d(channel, channel, 4, 2, padding=1))\n",
    "\n",
    "        blocks.append(nn.ConvTranspose2d(channel, out_channel, 4, 2, padding=1))\n",
    "\n",
    "        self.blocks = nn.Sequential(*blocks)\n",
    "\n",
    "    def forward(self, input):\n",
    "        return self.blocks(input)\n",
    "\n",
    "\n",
    "class VQVAE(nn.Module):\n",
    "    '''\n",
    "    params: in_channel=3, channel=64, n_res_block=2, n_res_channel=32, embed_dim=64, n_embed=512, decay=0.99\n",
    "    '''\n",
    "    def __init__(\n",
    "        self,\n",
    "        in_channel=3,\n",
    "        channel=128,\n",
    "        n_res_block=0,\n",
    "        n_extra_layers=0,\n",
    "        n_res_channel=32,\n",
    "        embed_dim=64//2,\n",
    "        n_embed=512//2,\n",
    "        decay=0.99\n",
    "    ):\n",
    "        '''\n",
    "        params: in_channel=3, channel=64, n_res_block=2, n_res_channel=32, embed_dim=64, n_embed=512, decay=0.99\n",
    "        '''\n",
    "        super().__init__()\n",
    "        # Encoders, first one should have two rounds of downsampling, second should have one\n",
    "        self.enc_b = Encoder(in_channel=in_channel, channel=channel, extra_layers=n_extra_layers, stride=2, kernel_size=5, residual=False, extra_residual_blocks=n_res_block, downsample='Once')\n",
    "        self.enc_t = Encoder(in_channel=channel, channel=channel, extra_layers=n_extra_layers, stride=1, kernel_size=3, residual=False, extra_residual_blocks=n_res_block, downsample='Once')\n",
    "\n",
    "        self.quantize_conv_t = nn.Conv2d(channel, embed_dim, 1)\n",
    "        self.quantize_t = Quantize(embed_dim, n_embed)\n",
    "\n",
    "        # Decoders,\n",
    "        self.dec_t = Decoder(embed_dim, embed_dim, channel, extra_residual_blocks = n_res_block, upsample='Once')\n",
    "        self.quantize_conv_b = nn.Conv2d(embed_dim + channel, embed_dim, 1)\n",
    "        self.quantize_b = Quantize(embed_dim, n_embed)\n",
    "        self.upsample_t = nn.ConvTranspose2d(embed_dim, embed_dim, 4, stride=2, padding=1)\n",
    "        self.dec = Decoder(embed_dim + embed_dim, in_channel, extra_layers=n_extra_layers+1, extra_residual_blocks=n_res_block+1, upsample='Twice')\n",
    "        \n",
    "        self.quant_t_conv = nn.Conv2d(32, 2, 3, padding=1)\n",
    "        self.quant_b_conv = nn.Conv2d(32, 2, 3, padding=1)\n",
    "\n",
    "        self.transformer_layer_t = nn.Linear(2048, 32)\n",
    "        self.transformer_layer_b = nn.Linear(8192, 32)\n",
    "\n",
    "        self.transformer_layer_final = nn.Linear(64, 2)\n",
    "\n",
    "    def forward(self, input):\n",
    "        quant_t, quant_b, diff, _, _ = self.encode(input)\n",
    "        swish = Swish_module()\n",
    "\n",
    "        x_b = self.quant_b_conv(quant_b)\n",
    "        x_t = self.quant_t_conv(quant_t)\n",
    "\n",
    "        x_t = nn.Flatten()(x_t)\n",
    "        x_b = nn.Flatten()(x_b)\n",
    "\n",
    "        x_t = self.transformer_layer_t(x_t)\n",
    "        x_b = self.transformer_layer_b(x_b)\n",
    "\n",
    "        ret = self.transformer_layer_final(torch.cat([x_b, x_t], 1))\n",
    "        \n",
    "        return ret\n",
    "\n",
    "    def encode(self, input):\n",
    "        enc_b = self.enc_b(input)\n",
    "        enc_t = self.enc_t(enc_b)\n",
    "\n",
    "        quant_t = self.quantize_conv_t(enc_t).permute(0, 2, 3, 1)\n",
    "        quant_t, diff_t, id_t = self.quantize_t(quant_t)\n",
    "        quant_t = quant_t.permute(0, 3, 1, 2)\n",
    "        diff_t = diff_t.unsqueeze(0)\n",
    "\n",
    "        dec_t = self.dec_t(quant_t)\n",
    "        enc_b = torch.cat([dec_t, enc_b], 1)\n",
    "\n",
    "        quant_b = self.quantize_conv_b(enc_b).permute(0, 2, 3, 1)\n",
    "        quant_b, diff_b, id_b = self.quantize_b(quant_b)\n",
    "        quant_b = quant_b.permute(0, 3, 1, 2)\n",
    "        diff_b = diff_b.unsqueeze(0)\n",
    "        print('quant b shape', quant_b.shape)\n",
    "\n",
    "        return quant_t, quant_b, diff_t + diff_b, id_t, id_b\n"
   ]
  }
 ],
 "metadata": {
  "kernelspec": {
   "display_name": "june2020-gpu",
   "language": "python",
   "name": "june2020-gpu"
  },
  "language_info": {
   "codemirror_mode": {
    "name": "ipython",
    "version": 3
   },
   "file_extension": ".py",
   "mimetype": "text/x-python",
   "name": "python",
   "nbconvert_exporter": "python",
   "pygments_lexer": "ipython3",
   "version": "3.7.6"
  }
 },
 "nbformat": 4,
 "nbformat_minor": 4
}

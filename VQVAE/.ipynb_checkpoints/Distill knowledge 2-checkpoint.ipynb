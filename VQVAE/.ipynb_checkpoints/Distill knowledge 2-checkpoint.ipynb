{
 "cells": [
  {
   "cell_type": "code",
   "execution_count": 1,
   "metadata": {},
   "outputs": [],
   "source": [
    "# mlflow ui --port 6010 --backend-store-uri file:/share/lazy/will/ConstrastiveLoss/Logs\n",
    "# watch -n 0.5 nvidia-smi"
   ]
  },
  {
   "cell_type": "code",
   "execution_count": 1,
   "metadata": {},
   "outputs": [],
   "source": [
    "import torch\n",
    "from torch import nn, optim\n",
    "from torch.utils.data import DataLoader\n",
    "\n",
    "from torchvision import datasets, transforms, utils\n",
    "\n",
    "from VQVAE import VQVAE_Encoder as small_model\n",
    "from VQVAE import VQVAE as big_model\n",
    "from train import train, knowledge_distillation\n",
    "from utilities import start_mlflow_experiment, Params, save_to_mlflow, count_parameters, load_full_state, select_gpu\n",
    "\n",
    "from tqdm import tqdm\n",
    "import mlflow\n",
    "\n",
    "from torchsummary import summary"
   ]
  },
  {
   "cell_type": "code",
   "execution_count": null,
   "metadata": {},
   "outputs": [],
   "source": [
    "start_mlflow_experiment('VQVAE2 Knowledge distillation', 'lane-finder')\n",
    "\n",
    "device = 'cuda:1'\n",
    "args = Params(32, 1, 4e-4, 256, device)\n",
    "\n",
    "transform = transforms.Compose([\n",
    "        transforms.Resize(args.size),\n",
    "        transforms.CenterCrop(args.size),\n",
    "        transforms.ToTensor(),\n",
    "        transforms.Normalize([0.5, 0.5, 0.5], [0.5, 0.5, 0.5]),\n",
    "    ])\n",
    "\n",
    "dataset = datasets.ImageFolder('/share/lazy/will/ConstrastiveLoss/Imgs/color_images/train/', transform=transform)\n",
    "loader = DataLoader(dataset, batch_size=args.batch_size, shuffle=True, pin_memory = True)\n",
    "\n",
    "model = big_model(channel=128, n_res_block=0, n_extra_layers=1).to(device)\n",
    "\n",
    "optimizer = optim.Adam(model.parameters(), lr=args.lr)\n",
    "\n",
    "\n",
    "run_name = 'overnight run'\n",
    "\n",
    "with mlflow.start_run(run_name = run_name) as run:\n",
    "\n",
    "    for epoch in range(args.epoch):\n",
    "        results = train(epoch, loader, model, optimizer, args.device)\n",
    "        for Dict in results:\n",
    "            save_to_mlflow(Dict, args)"
   ]
  },
  {
   "cell_type": "code",
   "execution_count": null,
   "metadata": {},
   "outputs": [],
   "source": []
  }
 ],
 "metadata": {
  "kernelspec": {
   "display_name": "june2020-gpu",
   "language": "python",
   "name": "june2020-gpu"
  }
 },
 "nbformat": 4,
 "nbformat_minor": 4
}
